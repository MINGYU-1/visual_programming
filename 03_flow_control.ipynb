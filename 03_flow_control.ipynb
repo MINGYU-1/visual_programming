{
 "cells": [
  {
   "attachments": {
    "image.png": {
     "image/png": "[encoded data removed]"
    }
   },
   "cell_type": "markdown",
   "id": "fafd18b1",
   "metadata": {},
   "source": [
    "### 흐름제어 - 정의\n",
    "#### 프로그램의 실행 흐름을 제어하는 것\n",
    "- 예시:근의 공식 조건에 따라서 분기하는게 어렵다 흐름을 제어하는 것이 어려운데 이를 영어로 flow control이라고 한다.\n",
    "- 기본적으로 다 가지고 있는 특징, 거의 대부분의 컴퓨터 언어가 갖추고 있는것 조금 다른 화법\n",
    "![image.png](attachment:image.png)"
   ]
  },
  {
   "cell_type": "markdown",
   "id": "b274f890",
   "metadata": {},
   "source": [
    "### 단어를 활용하는 방법은 다 비슷하다. 비슷한 것을 떠나서 다 같다. \n",
    "#### 단어가 어떻게 쓰이는지 알면 바로 사용가능하다. 효율적이로 빠르게 하도록"
   ]
  },
  {
   "cell_type": "code",
   "execution_count": 29,
   "id": "48095f9c",
   "metadata": {},
   "outputs": [],
   "source": [
    "# 흐름 제어를 쓰는게 아니라 4개로 나눠서 사용한다. 하나의 뿌리로 4가지 사용\n",
    "# 방법만 알면 풀수 있다."
   ]
  },
  {
   "cell_type": "code",
   "execution_count": 30,
   "id": "c8eedb73",
   "metadata": {},
   "outputs": [
    {
     "name": "stdout",
     "output_type": "stream",
     "text": [
      "True\n"
     ]
    }
   ],
   "source": [
    "if True:\n",
    "    print(\"True\") # 1. 들여쓰기 부분 \n",
    "else:\n",
    "    print(\"False\")\n"
   ]
  },
  {
   "cell_type": "code",
   "execution_count": 31,
   "id": "b7f07317",
   "metadata": {},
   "outputs": [
    {
     "ename": "TypeError",
     "evalue": "'<' not supported between instances of 'list' and 'int'",
     "output_type": "error",
     "traceback": [
      "\u001b[31m---------------------------------------------------------------------------\u001b[39m",
      "\u001b[31mTypeError\u001b[39m                                 Traceback (most recent call last)",
      "\u001b[36mCell\u001b[39m\u001b[36m \u001b[39m\u001b[32mIn[31]\u001b[39m\u001b[32m, line 1\u001b[39m\n\u001b[32m----> \u001b[39m\u001b[32m1\u001b[39m \u001b[38;5;28;01mif\u001b[39;00m \u001b[43mx\u001b[49m\u001b[43m \u001b[49m\u001b[43m<\u001b[49m\u001b[43m \u001b[49m\u001b[32;43m0\u001b[39;49m:\n\u001b[32m      2\u001b[39m     x = \u001b[32m0\u001b[39m\n\u001b[32m      3\u001b[39m     \u001b[38;5;28mprint\u001b[39m\n",
      "\u001b[31mTypeError\u001b[39m: '<' not supported between instances of 'list' and 'int'"
     ]
    }
   ],
   "source": [
    "if x < 0:\n",
    "    x = 0\n",
    "    print"
   ]
  },
  {
   "cell_type": "code",
   "execution_count": null,
   "id": "c7754f31",
   "metadata": {},
   "outputs": [
    {
     "name": "stdout",
     "output_type": "stream",
     "text": [
      "1\n",
      "3\n",
      "4\n",
      "5\n"
     ]
    }
   ],
   "source": [
    "i = 0\n",
    "while True:\n",
    "    if i >=5:\n",
    "        break\n",
    "    if i == 1:\n",
    "        i += 1\n",
    "        continue\n",
    "    i += 1\n",
    "    print(i)"
   ]
  },
  {
   "cell_type": "code",
   "execution_count": null,
   "id": "e683af3c",
   "metadata": {},
   "outputs": [
    {
     "name": "stdout",
     "output_type": "stream",
     "text": [
      "0 1\n",
      "1 1\n",
      "1 2\n",
      "2 3\n",
      "3 5\n",
      "5 8\n",
      "8 13\n"
     ]
    }
   ],
   "source": [
    "a, b = 0 ,1\n",
    "while a < 10:\n",
    "    print(a,b)\n",
    "    a ,b  = b ,a+b"
   ]
  },
  {
   "cell_type": "code",
   "execution_count": null,
   "id": "4e97af0a",
   "metadata": {},
   "outputs": [
    {
     "name": "stdout",
     "output_type": "stream",
     "text": [
      "True\n"
     ]
    }
   ],
   "source": [
    "x = 101\n",
    "if (x == 100) | (x== 101):\n",
    "    print('True')\n",
    "else:\n",
    "    print('False')"
   ]
  },
  {
   "cell_type": "code",
   "execution_count": null,
   "id": "9cb56e07",
   "metadata": {},
   "outputs": [
    {
     "name": "stdout",
     "output_type": "stream",
     "text": [
      "1\n",
      "2\n",
      "3\n",
      "4\n"
     ]
    }
   ],
   "source": [
    "for i in [1,2,3,4]:\n",
    "    print(i)"
   ]
  },
  {
   "cell_type": "code",
   "execution_count": null,
   "id": "b29ad5d6",
   "metadata": {},
   "outputs": [
    {
     "name": "stdout",
     "output_type": "stream",
     "text": [
      "1\n",
      "1\n",
      "2\n",
      "3\n",
      "5\n",
      "8\n",
      "13\n"
     ]
    }
   ],
   "source": [
    "a, b = 0, 1\n",
    "while a <= 10:\n",
    "    a , b = b, a+b\n",
    "    print(a)"
   ]
  },
  {
   "cell_type": "code",
   "execution_count": null,
   "id": "a7ed1554",
   "metadata": {},
   "outputs": [
    {
     "name": "stdout",
     "output_type": "stream",
     "text": [
      "[1, 0, 0]\n",
      "1\n",
      "0\n",
      "0\n"
     ]
    }
   ],
   "source": [
    "x = list(map(int,str(100)))\n",
    "print(x)\n",
    "for i in x:\n",
    "    print(i)"
   ]
  },
  {
   "cell_type": "code",
   "execution_count": 33,
   "id": "597a00c5",
   "metadata": {},
   "outputs": [
    {
     "name": "stdout",
     "output_type": "stream",
     "text": [
      "0\n",
      "2\n",
      "3\n",
      "4\n",
      "5\n"
     ]
    }
   ],
   "source": [
    "i = 0\n",
    "while i <= 5:\n",
    "    if i == 1:\n",
    "        i += 1\n",
    "        continue\n",
    "    print(i)\n",
    "    i += 1"
   ]
  },
  {
   "cell_type": "code",
   "execution_count": 34,
   "id": "1605165d",
   "metadata": {},
   "outputs": [
    {
     "name": "stdout",
     "output_type": "stream",
     "text": [
      "Not Found\n"
     ]
    }
   ],
   "source": [
    "numbers = [1,2,3,4,5]\n",
    "for num in numbers:\n",
    "    if num == 10:\n",
    "        print('Found')\n",
    "        break\n",
    "else:\n",
    "    print(\"Not Found\")"
   ]
  },
  {
   "cell_type": "code",
   "execution_count": 36,
   "id": "ca62a871",
   "metadata": {},
   "outputs": [
    {
     "name": "stdout",
     "output_type": "stream",
     "text": [
      "Found\n"
     ]
    }
   ],
   "source": [
    "numbers = [1,2,3,4,5]\n",
    "for num in numbers:\n",
    "    if num == 4:\n",
    "        print(\"Found\")\n",
    "        break\n",
    "else:\n",
    "    print(\"Not Found\")"
   ]
  },
  {
   "cell_type": "code",
   "execution_count": null,
   "id": "b61e63c9",
   "metadata": {},
   "outputs": [
    {
     "name": "stdout",
     "output_type": "stream",
     "text": [
      "55\n"
     ]
    }
   ],
   "source": [
    "total = 0\n",
    "for value in range(1,11):\n",
    "    total += value\n",
    "print(total)"
   ]
  },
  {
   "cell_type": "code",
   "execution_count": null,
   "id": "bc76aab9",
   "metadata": {},
   "outputs": [
    {
     "name": "stdout",
     "output_type": "stream",
     "text": [
      "10\n",
      "10\n"
     ]
    }
   ],
   "source": [
    "# Walrus Operator # 31페이지 시험 범위 아님\n",
    "x = 10\n",
    "if x>0:\n",
    "    print(x)\n",
    "# Walrus Operator\n",
    "if (x:=10)>0:\n",
    "    print(x)\n"
   ]
  },
  {
   "cell_type": "code",
   "execution_count": 41,
   "id": "b18eb4bd",
   "metadata": {},
   "outputs": [
    {
     "name": "stdout",
     "output_type": "stream",
     "text": [
      "5개 존재\n"
     ]
    }
   ],
   "source": [
    "values = [1,3,5,6,4]\n",
    "if (number := len(values))>=5:\n",
    "    print(f'{number}개 존재')\n",
    "else:\n",
    "    print(\"3개이하\")"
   ]
  },
  {
   "cell_type": "code",
   "execution_count": 42,
   "id": "5c5c6969",
   "metadata": {},
   "outputs": [
    {
     "name": "stdout",
     "output_type": "stream",
     "text": [
      "2.0\n"
     ]
    }
   ],
   "source": [
    "#예제1\n",
    "a = int(input())\n",
    "b = int(input())\n",
    "c = int(input())\n",
    "if c < a:\n",
    "    print(a)\n",
    "elif c > b:\n",
    "    print(b)\n",
    "elif c in range(a,b+1):\n",
    "    print((a+b)/2)"
   ]
  },
  {
   "cell_type": "code",
   "execution_count": 46,
   "id": "4e8e8cbe",
   "metadata": {},
   "outputs": [
    {
     "name": "stdout",
     "output_type": "stream",
     "text": [
      "True\n"
     ]
    }
   ],
   "source": [
    "value = 7\n",
    "is_prime = True\n",
    "for i in range(2,value):\n",
    "    if value % i == 0:\n",
    "        is_prime = False\n",
    "        break\n",
    "    i+=1\n",
    "print(is_prime)"
   ]
  },
  {
   "cell_type": "code",
   "execution_count": 50,
   "id": "6be233ea",
   "metadata": {},
   "outputs": [
    {
     "name": "stdout",
     "output_type": "stream",
     "text": [
      "1058\n"
     ]
    }
   ],
   "source": [
    "sum = 0\n",
    "for number in range(1, 101):\n",
    "    for i in range(2, number):\n",
    "        is_prime = True\n",
    "        if number % i == 0:\n",
    "            is_prime = False\n",
    "            break\n",
    "    if number == 1:\n",
    "        is_prime = False\n",
    "    if is_prime:\n",
    "        sum +=number\n",
    "print(sum)"
   ]
  }
 ],
 "metadata": {
  "kernelspec": {
   "display_name": "Python 3",
   "language": "python",
   "name": "python3"
  },
  "language_info": {
   "codemirror_mode": {
    "name": "ipython",
    "version": 3
   },
   "file_extension": ".py",
   "mimetype": "text/x-python",
   "name": "python",
   "nbconvert_exporter": "python",
   "pygments_lexer": "ipython3",
   "version": "3.13.2"
  }
 },
 "nbformat": 4,
 "nbformat_minor": 5
}
