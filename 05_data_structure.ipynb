{
 "cells": [
  {
   "cell_type": "code",
   "execution_count": null,
   "id": "941f13e9",
   "metadata": {},
   "outputs": [],
   "source": [
    "# 사전의 의미\n",
    "# 정의 집합에 대한 키-값 쌍의 나열\n",
    "# 키를 통해 값에 접근"
   ]
  },
  {
   "cell_type": "code",
   "execution_count": null,
   "id": "fcadaa24",
   "metadata": {},
   "outputs": [],
   "source": [
    "# 사전은 해시맵으로 구현\n",
    "# 해시맵은 매우 빠른 데이터 접근 속도를 보장\n"
   ]
  },
  {
   "cell_type": "code",
   "execution_count": null,
   "id": "1ee7253b",
   "metadata": {},
   "outputs": [],
   "source": [
    "# hashing\n",
    "# SipHash 2-4 알고리즘\n",
    "# 질의를 통해 데이터에 접근할 수 있다.\n",
    "# o(1) 수준의 매우 빠른 데이터 접근 속도(삽입, 수정, 제거)\n"
   ]
  },
  {
   "cell_type": "code",
   "execution_count": 3,
   "id": "370006b1",
   "metadata": {},
   "outputs": [
    {
     "name": "stdout",
     "output_type": "stream",
     "text": [
      "{'1': 1, '2': []}\n"
     ]
    }
   ],
   "source": [
    "a= {}\n",
    "a['1'] = 1\n",
    "a['2'] = []\n",
    "print(a)"
   ]
  },
  {
   "cell_type": "code",
   "execution_count": 5,
   "id": "617359bd",
   "metadata": {},
   "outputs": [
    {
     "name": "stdout",
     "output_type": "stream",
     "text": [
      "True\n"
     ]
    }
   ],
   "source": [
    "a = {'1':1,'2':2 , '3':3}\n",
    "print('3' in a)"
   ]
  },
  {
   "cell_type": "code",
   "execution_count": 6,
   "id": "478c5a12",
   "metadata": {},
   "outputs": [
    {
     "name": "stdout",
     "output_type": "stream",
     "text": [
      "True\n"
     ]
    }
   ],
   "source": [
    "a = {'1':1,\"2\":2,\"3\":3}\n",
    "print('3' in a)"
   ]
  },
  {
   "cell_type": "code",
   "execution_count": 7,
   "id": "c53be7db",
   "metadata": {},
   "outputs": [
    {
     "name": "stdout",
     "output_type": "stream",
     "text": [
      "None\n"
     ]
    }
   ],
   "source": [
    "# 사전은 순서가 있다.\n",
    "a = {'1':1, '2':2,'3':3}\n",
    "print(a.get('10'))"
   ]
  },
  {
   "cell_type": "code",
   "execution_count": 8,
   "id": "a74d29ee",
   "metadata": {},
   "outputs": [
    {
     "name": "stdout",
     "output_type": "stream",
     "text": [
      "dict_keys(['1', '2', '3'])\n"
     ]
    }
   ],
   "source": [
    "a = {'1':1,'2':2,'3':3}\n",
    "print(a.keys())\n"
   ]
  },
  {
   "cell_type": "code",
   "execution_count": 11,
   "id": "5b9452b7",
   "metadata": {},
   "outputs": [
    {
     "name": "stdout",
     "output_type": "stream",
     "text": [
      "53\n"
     ]
    }
   ],
   "source": [
    "import random\n",
    "random_number = random.randint(1,100)\n",
    "print(random_number)"
   ]
  },
  {
   "cell_type": "code",
   "execution_count": null,
   "id": "f88d45bd",
   "metadata": {},
   "outputs": [],
   "source": [
    "value_list = []\n",
    "for i in range(100):\n",
    "    value_list.append(i+1)\n",
    "random.shuffle(value_list)"
   ]
  },
  {
   "cell_type": "code",
   "execution_count": 1,
   "id": "728e8356",
   "metadata": {},
   "outputs": [
    {
     "name": "stdout",
     "output_type": "stream",
     "text": [
      "{46, 91, 85, 22}\n"
     ]
    }
   ],
   "source": [
    "import random\n",
    "user_value = input('수를 입력하세요')\n",
    "user_value = int(user_value)\n",
    "result = set()\n",
    "for i in range(user_value):\n",
    "    random_value = random.randint(1,100)\n",
    "    result.add(random_value)\n",
    "print(result)\n"
   ]
  },
  {
   "cell_type": "code",
   "execution_count": 20,
   "id": "dcdcf657",
   "metadata": {},
   "outputs": [
    {
     "name": "stdout",
     "output_type": "stream",
     "text": [
      "2개 맞았습니다.\n"
     ]
    }
   ],
   "source": [
    "import random\n",
    "result_value = input(\"로또 번호를 입력해주세요:\")\n",
    "result_value = result_value.split()\n",
    "user_value = list(result_value)\n",
    "user_lotto = set()\n",
    "for value in user_value:\n",
    "    user_lotto.add(int(value))\n",
    "\n",
    "lotto_pool = []\n",
    "for value in range(1,46):\n",
    "    lotto_pool.append(value)\n",
    "random.shuffle(lotto_pool)\n",
    "chosen_lotto = set(lotto_pool[:6])\n",
    "\n",
    "print(f'{len(user_lotto & chosen_lotto)}'+'개 맞았습니다.')"
   ]
  },
  {
   "cell_type": "code",
   "execution_count": 21,
   "id": "8f90f23f",
   "metadata": {},
   "outputs": [
    {
     "name": "stdout",
     "output_type": "stream",
     "text": [
      "{16, 19, 87}\n"
     ]
    }
   ],
   "source": [
    "import random \n",
    "number_1 = input(\"숫자를 입력하세요\")\n",
    "number_1 = int(number_1)\n",
    "rand_1 = set()\n",
    "for value in range(number_1):\n",
    "    random_value = random.randint(1, 100)\n",
    "    rand_1.add(random_value)\n",
    "\n",
    "print(rand_1)"
   ]
  },
  {
   "cell_type": "code",
   "execution_count": 1,
   "id": "4021c575",
   "metadata": {},
   "outputs": [
    {
     "name": "stdout",
     "output_type": "stream",
     "text": [
      "{}\n"
     ]
    }
   ],
   "source": [
    "a = {}\n",
    "print(a)"
   ]
  },
  {
   "cell_type": "code",
   "execution_count": 14,
   "id": "077b56a7",
   "metadata": {},
   "outputs": [
    {
     "name": "stdout",
     "output_type": "stream",
     "text": [
      "{1, 2, 3}\n"
     ]
    }
   ],
   "source": [
    "a = set()\n",
    "a = set({2,1,3,3})\n",
    "print(a)"
   ]
  },
  {
   "cell_type": "code",
   "execution_count": 15,
   "id": "010ef0e2",
   "metadata": {},
   "outputs": [
    {
     "name": "stdout",
     "output_type": "stream",
     "text": [
      "5\n"
     ]
    }
   ],
   "source": [
    "a = {1,2,3,4}\n",
    "a.add(1)\n",
    "a.add(5)\n",
    "print(len(a))\n"
   ]
  },
  {
   "cell_type": "code",
   "execution_count": 18,
   "id": "eb42fe69",
   "metadata": {},
   "outputs": [
    {
     "name": "stdout",
     "output_type": "stream",
     "text": [
      "{1, 2, 3, 4, 5}\n"
     ]
    }
   ],
   "source": [
    "a = {1,2,3,4,5}\n",
    "a.discard(10)\n",
    "print(a)"
   ]
  },
  {
   "cell_type": "code",
   "execution_count": 20,
   "id": "b18490d4",
   "metadata": {},
   "outputs": [
    {
     "name": "stdout",
     "output_type": "stream",
     "text": [
      "2\n"
     ]
    }
   ],
   "source": [
    "print(a.pop()) # 임의의 원소가 추출됨"
   ]
  }
 ],
 "metadata": {
  "kernelspec": {
   "display_name": "Python 3",
   "language": "python",
   "name": "python3"
  },
  "language_info": {
   "codemirror_mode": {
    "name": "ipython",
    "version": 3
   },
   "file_extension": ".py",
   "mimetype": "text/x-python",
   "name": "python",
   "nbconvert_exporter": "python",
   "pygments_lexer": "ipython3",
   "version": "3.13.2"
  }
 },
 "nbformat": 4,
 "nbformat_minor": 5
}
