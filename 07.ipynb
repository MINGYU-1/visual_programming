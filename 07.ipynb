{
 "cells": [
  {
   "cell_type": "code",
   "execution_count": null,
   "id": "a5bdd234",
   "metadata": {},
   "outputs": [],
   "source": [
    "import random\n",
    "def lotto_set():\n",
    "    "
   ]
  },
  {
   "cell_type": "code",
   "execution_count": null,
   "id": "fa3ed458",
   "metadata": {},
   "outputs": [],
   "source": [
    "def 계산():\n",
    "    for i in range(5):\n",
    "        a = input(\"물건 이름과 금액을 작성하세요\")\n",
    "        a.replace(\",\",\" \").split()\n",
    "        "
   ]
  },
  {
   "cell_type": "code",
   "execution_count": null,
   "id": "3a5c05b0",
   "metadata": {},
   "outputs": [
    {
     "name": "stdout",
     "output_type": "stream",
     "text": [
      "[1, 3]\n"
     ]
    }
   ],
   "source": [
    "limit = int(input(\"허용 중복수를 입력하세요: \"))\n",
    "nums = list(map(list, input(\"값을 입력하세요: \").split()))\n",
    "count_dict = {}\n",
    "for n in nums:\n",
    "    count_dict[n] = count_dict.get(n,0) + 1 #이전 값에 1더하기\n",
    "overlap = [str(k) for k, v in count_dict.items() if v > limit]\n",
    "if overlap:\n",
    "    print(\"중복된 수:\",\"\".join(overlap))\n",
    "else:\n",
    "    print(\"중복된 수가 없습니다.\")"
   ]
  },
  {
   "cell_type": "code",
   "execution_count": 21,
   "id": "4bd64936",
   "metadata": {},
   "outputs": [
    {
     "name": "stdout",
     "output_type": "stream",
     "text": [
      "['1', 1, 10, True, '1']\n"
     ]
    }
   ],
   "source": [
    "a = [\"1\"]\n",
    "a.append(10)\n",
    "a.extend([True,\"1\"])\n",
    "a.insert(1,1)\n",
    "print(a)"
   ]
  },
  {
   "cell_type": "code",
   "execution_count": 53,
   "id": "f624f5c6",
   "metadata": {},
   "outputs": [],
   "source": [
    "def 소수(n):\n",
    "    if n == 1:\n",
    "        return \"소수가 아닙니다.\"\n",
    "    else:\n",
    "        i = 2\n",
    "        is_prime = True\n",
    "        while i * i <= n:\n",
    "            if n % i == 0:\n",
    "                is_prime = False\n",
    "                break\n",
    "            i += 1\n",
    "        if is_prime:\n",
    "            return \"소수\"\n",
    "        else:\n",
    "            return \"소수가 아닙니다.\"\n",
    "def is_prime2(n):\n",
    "    count = 0\n",
    "    for i in range(1,n+1):\n",
    "        if 소수(i) == \"소수\":\n",
    "            count +=1\n",
    "    return count\n"
   ]
  },
  {
   "cell_type": "code",
   "execution_count": 57,
   "id": "4c012fe5",
   "metadata": {},
   "outputs": [
    {
     "data": {
      "text/plain": [
       "30"
      ]
     },
     "execution_count": 57,
     "metadata": {},
     "output_type": "execute_result"
    }
   ],
   "source": [
    "(lambda a,b:a+b)(10,20)"
   ]
  },
  {
   "cell_type": "code",
   "execution_count": 56,
   "id": "dd8f921e",
   "metadata": {},
   "outputs": [
    {
     "data": {
      "text/plain": [
       "{'a': 1, 'b': 2, 'c': 3}"
      ]
     },
     "execution_count": 56,
     "metadata": {},
     "output_type": "execute_result"
    }
   ],
   "source": [
    "def f(**x):\n",
    "    return x\n",
    "f(a=1, b=2, c=3)"
   ]
  },
  {
   "cell_type": "code",
   "execution_count": 55,
   "id": "91354811",
   "metadata": {},
   "outputs": [
    {
     "data": {
      "text/plain": [
       "4"
      ]
     },
     "execution_count": 55,
     "metadata": {},
     "output_type": "execute_result"
    }
   ],
   "source": [
    "is_prime2(10)"
   ]
  },
  {
   "cell_type": "code",
   "execution_count": null,
   "id": "aeb35824",
   "metadata": {},
   "outputs": [
    {
     "name": "stdout",
     "output_type": "stream",
     "text": [
      "소수가 아닙니다.\n"
     ]
    }
   ],
   "source": []
  },
  {
   "cell_type": "code",
   "execution_count": null,
   "id": "a58270ad",
   "metadata": {},
   "outputs": [
    {
     "data": {
      "text/plain": [
       "'소수'"
      ]
     },
     "execution_count": 25,
     "metadata": {},
     "output_type": "execute_result"
    }
   ],
   "source": []
  }
 ],
 "metadata": {
  "kernelspec": {
   "display_name": "Python 3",
   "language": "python",
   "name": "python3"
  },
  "language_info": {
   "codemirror_mode": {
    "name": "ipython",
    "version": 3
   },
   "file_extension": ".py",
   "mimetype": "text/x-python",
   "name": "python",
   "nbconvert_exporter": "python",
   "pygments_lexer": "ipython3",
   "version": "3.13.2"
  }
 },
 "nbformat": 4,
 "nbformat_minor": 5
}
