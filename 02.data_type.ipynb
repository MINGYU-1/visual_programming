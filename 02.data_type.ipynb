{
 "cells": [
  {
   "cell_type": "markdown",
   "id": "e4eaadc0",
   "metadata": {},
   "source": [
    "# 연산을 위해서 "
   ]
  },
  {
   "cell_type": "code",
   "execution_count": 2,
   "id": "dbaf5eee",
   "metadata": {},
   "outputs": [
    {
     "name": "stdout",
     "output_type": "stream",
     "text": [
      "False\n",
      "True\n",
      "False\n",
      "False\n",
      "True\n",
      "False\n",
      "True\n",
      "False\n"
     ]
    }
   ],
   "source": [
    "x= True\n",
    "y= False\n",
    "x, y = True, False\n",
    "\n",
    "print(x and y)\n",
    "print( x or y)\n",
    "print( not x)\n",
    "print(1 < 1)\n",
    "print(1 <= 1)\n",
    "print(1 > 1)\n",
    "print( 1 == 1)\n",
    "print( 1 != 1)\n"
   ]
  },
  {
   "cell_type": "code",
   "execution_count": null,
   "id": "27703ed7",
   "metadata": {},
   "outputs": [
    {
     "name": "stdout",
     "output_type": "stream",
     "text": [
      "10000\n",
      "2\n",
      "2\n"
     ]
    }
   ],
   "source": [
    "a = 10 \n",
    "b = 4\n",
    "c = 1\n",
    "\n",
    "print(a ** b)\n",
    "print(a // b) # 몫 연산\n",
    "print(a % b) # 나머지 연산\n",
    "\n"
   ]
  },
  {
   "cell_type": "code",
   "execution_count": null,
   "id": "5dbf740b",
   "metadata": {},
   "outputs": [
    {
     "name": "stdout",
     "output_type": "stream",
     "text": [
      "2\n",
      "3\n"
     ]
    }
   ],
   "source": [
    "# 컴퓨터에서 숫자를 처리하는 것이기 때문에 시험에는 나오지 않는다. \n",
    "x = 3 #11\n",
    "y = 2 #10\n",
    "print(x & y)\n",
    "\n",
    "print(x | y) # or 연산\n",
    "\n",
    "print(x ^ y) # xor 연산\n",
    "\n",
    "print(x << y) # 11 << 2 = 1100(비트를 옆으로 미는 연산)\n",
    "\n",
    "print(~x)"
   ]
  },
  {
   "cell_type": "markdown",
   "id": "942592f2",
   "metadata": {},
   "source": [
    "## 실수의 계산\n",
    "- 2진법을 이용해서 구하기 떄문에 실수를 정확하게 표시하지 못한다. 굳이 그럴필요가 없기때문에 그러지 않았다.\n",
    "- 가수부를 구해서 수치를 이용해서 확인하면 더 와닿는다. \n",
    "- 우연하게도 표시할 수 있는 수인 경우에만 표시가능하다고 생각하면 된다. 실수는 표현하기 어렵다고 생각하면 된다. "
   ]
  },
  {
   "cell_type": "code",
   "execution_count": null,
   "id": "bd7f041a",
   "metadata": {},
   "outputs": [
    {
     "name": "stdout",
     "output_type": "stream",
     "text": [
      "2.3\n",
      "0.09999999999999987\n",
      "1.32\n",
      "1.0909090909090908\n"
     ]
    }
   ],
   "source": [
    "a = 1.2\n",
    "b = 1.1\n",
    "c = 1.0\n",
    "print(a + b)\n",
    "print(a - b) # 0.09999999999999 2진수이기떄문에 생기는 문제이다.\n",
    "print(a * b)\n",
    "print(a / b) # 1.0999999999999"
   ]
  },
  {
   "cell_type": "code",
   "execution_count": null,
   "id": "5fe70daa",
   "metadata": {},
   "outputs": [
    {
     "data": {
      "text/plain": [
       "('123', '123', '123', '123')"
      ]
     },
     "execution_count": 9,
     "metadata": {},
     "output_type": "execute_result"
    }
   ],
   "source": [
    "a = '123'\n",
    "b = \"123\"\n",
    "c = '''123''' # 문단 사용가능\n",
    "d = \"\"\"123\"\"\"\n",
    "a,b,c,d"
   ]
  },
  {
   "cell_type": "code",
   "execution_count": 10,
   "id": "8c022596",
   "metadata": {},
   "outputs": [
    {
     "name": "stdout",
     "output_type": "stream",
     "text": [
      "123123123\n"
     ]
    }
   ],
   "source": [
    "print(a * 3)"
   ]
  },
  {
   "cell_type": "code",
   "execution_count": 11,
   "id": "8fa1a686",
   "metadata": {},
   "outputs": [
    {
     "name": "stdout",
     "output_type": "stream",
     "text": [
      "'''a'''\n"
     ]
    }
   ],
   "source": [
    "b = \"\"\"'''a'''\"\"\"\n",
    "print(b)"
   ]
  },
  {
   "cell_type": "code",
   "execution_count": null,
   "id": "121377b3",
   "metadata": {},
   "outputs": [
    {
     "ename": "TypeError",
     "evalue": "'int' object is not subscriptable",
     "output_type": "error",
     "traceback": [
      "\u001b[1;31m---------------------------------------------------------------------------\u001b[0m",
      "\u001b[1;31mTypeError\u001b[0m                                 Traceback (most recent call last)",
      "Cell \u001b[1;32mIn[12], line 2\u001b[0m\n\u001b[0;32m      1\u001b[0m a \u001b[38;5;241m=\u001b[39m \u001b[38;5;241m123\u001b[39m\n\u001b[1;32m----> 2\u001b[0m \u001b[38;5;28mprint\u001b[39m(a[\u001b[38;5;241m1\u001b[39m])\n",
      "\u001b[1;31mTypeError\u001b[0m: 'int' object is not subscriptable"
     ]
    }
   ],
   "source": [
    "a = 123"
   ]
  }
 ],
 "metadata": {
  "kernelspec": {
   "display_name": "base",
   "language": "python",
   "name": "python3"
  },
  "language_info": {
   "codemirror_mode": {
    "name": "ipython",
    "version": 3
   },
   "file_extension": ".py",
   "mimetype": "text/x-python",
   "name": "python",
   "nbconvert_exporter": "python",
   "pygments_lexer": "ipython3",
   "version": "3.12.7"
  }
 },
 "nbformat": 4,
 "nbformat_minor": 5
}
