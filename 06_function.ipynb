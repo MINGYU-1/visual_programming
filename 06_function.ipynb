{
 "cells": [
  {
   "cell_type": "code",
   "execution_count": null,
   "id": "ec9fd7c5",
   "metadata": {},
   "outputs": [],
   "source": [
    "# 편하게 \n",
    "# 앨런 튜링에 따라 수학적 내용을 코딩으로 바꾼 걸 말한다.\n",
    "# "
   ]
  },
  {
   "cell_type": "code",
   "execution_count": null,
   "id": "6bb8e2a6",
   "metadata": {},
   "outputs": [],
   "source": [
    "# function or subroutine is a sequence of program instruction that performs a specific task, packaged as a unit.\n",
    "# this unit can then be used in programs wherever that particular task should be performed. \n",
    "# packaged as a unit. "
   ]
  },
  {
   "cell_type": "code",
   "execution_count": 1,
   "id": "c26d83f4",
   "metadata": {},
   "outputs": [
    {
     "name": "stdout",
     "output_type": "stream",
     "text": [
      "서로다른 두 허근\n"
     ]
    }
   ],
   "source": [
    "def determinent(a,b,c):\n",
    "    D = b**2 - 4*a*c\n",
    "    if D > 0: \n",
    "        print('2개의 서로 다른 실근')\n",
    "    elif D == 0:\n",
    "        print('중근')\n",
    "    else:\n",
    "        print('서로다른 두 허근')\n",
    "determinent(10,20,30)\n",
    "    "
   ]
  },
  {
   "cell_type": "code",
   "execution_count": 6,
   "id": "f025e611",
   "metadata": {},
   "outputs": [
    {
     "name": "stdout",
     "output_type": "stream",
     "text": [
      "0\n",
      "1\n",
      "1\n",
      "2\n",
      "3\n",
      "5\n",
      "8\n"
     ]
    }
   ],
   "source": [
    "a, b = 0 , 1\n",
    "while a< 10 :\n",
    "    print(a)\n",
    "    a, b = b, a+b"
   ]
  },
  {
   "cell_type": "code",
   "execution_count": 7,
   "id": "bd80ad02",
   "metadata": {},
   "outputs": [
    {
     "name": "stdout",
     "output_type": "stream",
     "text": [
      "0,1,1,2,3,5,8,"
     ]
    }
   ],
   "source": [
    "def fibonacci(n):\n",
    "    a, b = 0 ,1\n",
    "    while a<n:\n",
    "        print(a, end = ',')\n",
    "        a, b = b, a+b\n",
    "fibonacci(10)"
   ]
  },
  {
   "cell_type": "code",
   "execution_count": null,
   "id": "25c1d572",
   "metadata": {},
   "outputs": [
    {
     "data": {
      "text/plain": [
       "0"
      ]
     },
     "execution_count": 9,
     "metadata": {},
     "output_type": "execute_result"
    }
   ],
   "source": [
    "# 예제1\n",
    "def determinent(a,b,c):\n",
    "     d = b**2 - 4*a*c\n",
    "    match d:\n",
    "        case"
   ]
  },
  {
   "cell_type": "code",
   "execution_count": 10,
   "id": "a9fbdb82",
   "metadata": {},
   "outputs": [
    {
     "name": "stdout",
     "output_type": "stream",
     "text": [
      "0\n",
      "1\n",
      "1\n",
      "2\n",
      "3\n",
      "5\n",
      "8\n"
     ]
    }
   ],
   "source": [
    "a, b = 0,1\n",
    "while a< 10:\n",
    "    print(a)\n",
    "    a,b = b, a+b"
   ]
  },
  {
   "cell_type": "code",
   "execution_count": 34,
   "id": "7b86492a",
   "metadata": {},
   "outputs": [
    {
     "data": {
      "text/plain": [
       "{1, 3, 5}"
      ]
     },
     "execution_count": 34,
     "metadata": {},
     "output_type": "execute_result"
    }
   ],
   "source": [
    "a = set(map(int,input('수를 띄어쓰기해서 넣으시오').split(' ')))\n",
    "a"
   ]
  },
  {
   "cell_type": "code",
   "execution_count": 45,
   "id": "333cd6c1",
   "metadata": {},
   "outputs": [
    {
     "name": "stdout",
     "output_type": "stream",
     "text": [
      "{100, 69, 86}\n"
     ]
    }
   ],
   "source": [
    "import random \n",
    "value = int(input(\"수를 입력하세요\"))\n",
    "num_set = set()\n",
    "for i in range(value):\n",
    "    random_number = random.randint(1, 100)\n",
    "    num_set.add(random_number)\n",
    "print(num_set)"
   ]
  },
  {
   "cell_type": "code",
   "execution_count": 47,
   "id": "89f7699b",
   "metadata": {},
   "outputs": [
    {
     "name": "stdout",
     "output_type": "stream",
     "text": [
      "{32, 2, 6, 8, 41, 31}\n"
     ]
    }
   ],
   "source": []
  },
  {
   "cell_type": "code",
   "execution_count": null,
   "id": "d29228f7",
   "metadata": {},
   "outputs": [],
   "source": [
    "# 함수\n",
    "# 정의\n",
    "# A function or subroutine is a sequence of program instructions that performs a specific\n",
    "# task, packaged as a unit.\n",
    "# This unit can then be used in programs wherever that"
   ]
  },
  {
   "cell_type": "code",
   "execution_count": null,
   "id": "cef80aca",
   "metadata": {},
   "outputs": [
    {
     "name": "stdout",
     "output_type": "stream",
     "text": [
      "0 1 1 2 3 5 8 "
     ]
    }
   ],
   "source": [
    "def fibonacci(n):\n",
    "    a,b = 0,1\n",
    "    while a < n:\n",
    "        print(a ,end = ' ')\n",
    "        a,b = b, a+b\n",
    "fibonacci(10)"
   ]
  },
  {
   "cell_type": "code",
   "execution_count": null,
   "id": "ef4b131c",
   "metadata": {},
   "outputs": [
    {
     "name": "stdout",
     "output_type": "stream",
     "text": [
      "1.2\n"
     ]
    }
   ],
   "source": [
    "import math\n",
    "value = 1.44\n",
    "print(math.sqrt(value))\n"
   ]
  },
  {
   "cell_type": "code",
   "execution_count": 62,
   "id": "83c0d2af",
   "metadata": {},
   "outputs": [
    {
     "name": "stdout",
     "output_type": "stream",
     "text": [
      "소수가 아닙니다\n"
     ]
    }
   ],
   "source": [
    "n = int(input('수를 입력하세요'))\n",
    "if n == 1:\n",
    "    print(\"소수가 아닙니다.\")\n",
    "else:\n",
    "    i = 2\n",
    "    is_prime = True\n",
    "    while i *i <= n:\n",
    "        if n %i == 0:\n",
    "            is_prime = False\n",
    "            break\n",
    "        i += 1\n",
    "    print('소수입니다.' if is_prime else '소수가 아닙니다')\n"
   ]
  },
  {
   "cell_type": "code",
   "execution_count": 218,
   "id": "0851c61a",
   "metadata": {},
   "outputs": [
    {
     "name": "stdout",
     "output_type": "stream",
     "text": [
      "True\n",
      "{frozenset({1, 2, 3, 4, 5}), 1, 2, 3, 4, 5}\n"
     ]
    }
   ],
   "source": [
    "a = {1,2,3,4,5}\n",
    "b= {1,2,3}\n",
    "print(a.issuperset(b))\n",
    "a.add(frozenset(a))\n",
    "print(a)"
   ]
  },
  {
   "cell_type": "code",
   "execution_count": 222,
   "id": "6ccd28f6",
   "metadata": {},
   "outputs": [
    {
     "name": "stdout",
     "output_type": "stream",
     "text": [
      "1 3 4\n"
     ]
    }
   ],
   "source": [
    "a= input().replace(\",\",\" \")\n",
    "print(a)"
   ]
  },
  {
   "cell_type": "code",
   "execution_count": 237,
   "id": "8226324f",
   "metadata": {},
   "outputs": [
    {
     "name": "stdout",
     "output_type": "stream",
     "text": [
      "당첨 번호: [5, 10, 15, 16, 21, 42]\n",
      "사용자 번호: [1, 3, 5, 6, 7, 8]\n",
      "일치 번호: [5]\n",
      "맞춘 개수: 1\n"
     ]
    }
   ],
   "source": [
    "import random\n",
    "\n",
    "def make_lotto_with_randint():\n",
    "    \"\"\"randint로 1~45에서 중복 없이 6개를 뽑아 집합으로 반환\"\"\"\n",
    "    s = set()\n",
    "    while len(s) < 6:\n",
    "        s.add(random.randint(1, 45))  # randint는 양끝 포함\n",
    "    return s\n",
    "\n",
    "def parse_user_numbers(s: str):\n",
    "    \"\"\"\n",
    "    공백/콤마 구분 입력을 정수 집합으로 변환.\n",
    "    예) '1 2 3 4 5 6' 또는 '1,2,3,4,5,6'\n",
    "    \"\"\"\n",
    "    tokens = s.replace(',', ' ').split()\n",
    "    nums = {int(t) for t in tokens}\n",
    "    return nums\n",
    "\n",
    "def main():\n",
    "    # 1) 무작위 당첨 번호 생성(집합)\n",
    "    winning = make_lotto_with_randint()\n",
    "\n",
    "    # 2) 사용자 입력 → 집합\n",
    "    raw = input(\"로또 번호 6개를 입력하세요 (예: 1 2 3 4 5 6 또는 1,2,3,4,5,6): \")\n",
    "    user = parse_user_numbers(raw)\n",
    "\n",
    "    # 교집합 및 개수\n",
    "    matched = winning & user\n",
    "    count = len(matched)\n",
    "\n",
    "    # 결과 출력\n",
    "    print(f\"당첨 번호: {sorted(winning)}\")\n",
    "    print(f\"사용자 번호: {sorted(user)}\")\n",
    "    print(f\"일치 번호: {sorted(matched)}\")\n",
    "    print(f\"맞춘 개수: {count}\")\n",
    "\n",
    "if __name__ == \"__main__\":\n",
    "    main()\n"
   ]
  },
  {
   "cell_type": "code",
   "execution_count": 238,
   "id": "58f32d38",
   "metadata": {},
   "outputs": [
    {
     "name": "stdout",
     "output_type": "stream",
     "text": [
      "[3, 7, 10, 15, 57]\n"
     ]
    }
   ],
   "source": [
    "b= {15,7,3,57,10}\n",
    "print(sorted(b))"
   ]
  },
  {
   "cell_type": "code",
   "execution_count": 246,
   "id": "a2999e62",
   "metadata": {},
   "outputs": [
    {
     "ename": "_IncompleteInputError",
     "evalue": "incomplete input (2195485478.py, line 13)",
     "output_type": "error",
     "traceback": [
      "  \u001b[36mCell\u001b[39m\u001b[36m \u001b[39m\u001b[32mIn[246]\u001b[39m\u001b[32m, line 13\u001b[39m\n\u001b[31m    \u001b[39m\u001b[31mdef main():\u001b[39m\n               ^\n\u001b[31m_IncompleteInputError\u001b[39m\u001b[31m:\u001b[39m incomplete input\n"
     ]
    }
   ],
   "source": [
    "import random\n",
    "def random_int():\n",
    "    s= set()\n",
    "    while len(s) < 6:\n",
    "        rand_int = random.randint(1,45)\n",
    "        s.add(rand_int)\n",
    "    return s\n",
    "def input_num(input_input:str):\n",
    "    input_input = input_input.replace(',',' ').split()\n",
    "    token = [int(t) for t in input_input]\n",
    "    return token\n",
    "input_num(input())\n",
    "def main():"
   ]
  },
  {
   "cell_type": "code",
   "execution_count": null,
   "id": "a4153d5a",
   "metadata": {},
   "outputs": [
    {
     "ename": "ValueError",
     "evalue": "부분집합 크기 5개를 만들기에 원소 수가 부족합니다. (현재 0개)",
     "output_type": "error",
     "traceback": [
      "\u001b[31m---------------------------------------------------------------------------\u001b[39m",
      "\u001b[31mValueError\u001b[39m                                Traceback (most recent call last)",
      "\u001b[36mCell\u001b[39m\u001b[36m \u001b[39m\u001b[32mIn[219]\u001b[39m\u001b[32m, line 49\u001b[39m\n\u001b[32m     46\u001b[39m     \u001b[38;5;28mprint\u001b[39m(\u001b[33mf\u001b[39m\u001b[33m\"\u001b[39m\u001b[38;5;132;01m{\u001b[39;00mtrials\u001b[38;5;132;01m}\u001b[39;00m\u001b[33m번 시도 중 n\u001b[39m\u001b[33m'\u001b[39m\u001b[33m이 m에 완전히 속한 횟수:\u001b[39m\u001b[33m\"\u001b[39m, count_included)\n\u001b[32m     48\u001b[39m \u001b[38;5;28;01mif\u001b[39;00m \u001b[34m__name__\u001b[39m == \u001b[33m\"\u001b[39m\u001b[33m__main__\u001b[39m\u001b[33m\"\u001b[39m:\n\u001b[32m---> \u001b[39m\u001b[32m49\u001b[39m     \u001b[43mmain\u001b[49m\u001b[43m(\u001b[49m\u001b[43m)\u001b[49m\n",
      "\u001b[36mCell\u001b[39m\u001b[36m \u001b[39m\u001b[32mIn[219]\u001b[39m\u001b[32m, line 41\u001b[39m, in \u001b[36mmain\u001b[39m\u001b[34m()\u001b[39m\n\u001b[32m     38\u001b[39m count_included = \u001b[32m0\u001b[39m\n\u001b[32m     40\u001b[39m \u001b[38;5;28;01mfor\u001b[39;00m _ \u001b[38;5;129;01min\u001b[39;00m \u001b[38;5;28mrange\u001b[39m(trials):\n\u001b[32m---> \u001b[39m\u001b[32m41\u001b[39m     n_prime = \u001b[43msample_subset_with_randint\u001b[49m\u001b[43m(\u001b[49m\u001b[43mn\u001b[49m\u001b[43m,\u001b[49m\u001b[43m \u001b[49m\u001b[43mk\u001b[49m\u001b[43m)\u001b[49m  \u001b[38;5;66;03m# 크기 5 부분집합 n' 생성\u001b[39;00m\n\u001b[32m     42\u001b[39m     \u001b[38;5;28;01mif\u001b[39;00m n_prime.issubset(m):                     \u001b[38;5;66;03m# n' ⊆ m 여부 확인\u001b[39;00m\n\u001b[32m     43\u001b[39m         count_included += \u001b[32m1\u001b[39m\n",
      "\u001b[36mCell\u001b[39m\u001b[36m \u001b[39m\u001b[32mIn[219]\u001b[39m\u001b[32m, line 23\u001b[39m, in \u001b[36msample_subset_with_randint\u001b[39m\u001b[34m(source_set, k)\u001b[39m\n\u001b[32m     21\u001b[39m arr = \u001b[38;5;28mlist\u001b[39m(source_set)\n\u001b[32m     22\u001b[39m \u001b[38;5;28;01mif\u001b[39;00m \u001b[38;5;28mlen\u001b[39m(arr) < k:\n\u001b[32m---> \u001b[39m\u001b[32m23\u001b[39m     \u001b[38;5;28;01mraise\u001b[39;00m \u001b[38;5;167;01mValueError\u001b[39;00m(\u001b[33mf\u001b[39m\u001b[33m\"\u001b[39m\u001b[33m부분집합 크기 \u001b[39m\u001b[38;5;132;01m{\u001b[39;00mk\u001b[38;5;132;01m}\u001b[39;00m\u001b[33m개를 만들기에 원소 수가 부족합니다. (현재 \u001b[39m\u001b[38;5;132;01m{\u001b[39;00m\u001b[38;5;28mlen\u001b[39m(arr)\u001b[38;5;132;01m}\u001b[39;00m\u001b[33m개)\u001b[39m\u001b[33m\"\u001b[39m)\n\u001b[32m     24\u001b[39m picked = \u001b[38;5;28mset\u001b[39m()\n\u001b[32m     25\u001b[39m \u001b[38;5;28;01mwhile\u001b[39;00m \u001b[38;5;28mlen\u001b[39m(picked) < k:\n",
      "\u001b[31mValueError\u001b[39m: 부분집합 크기 5개를 만들기에 원소 수가 부족합니다. (현재 0개)"
     ]
    }
   ],
   "source": [
    "import random\n",
    "\n",
    "def make_lotto_with_randint():\n",
    "    \"\"\"randint로 1~45에서 중복 없이 6개를 뽑아 집합으로 반환\"\"\"\n",
    "    s = set()\n",
    "    while len(s) < 6:\n",
    "        s.add(random.randint(1, 45))  # randint는 양끝 포함\n",
    "    return s\n",
    "\n",
    "def parse_user_numbers(s: str):\n",
    "    \"\"\"\n",
    "    공백/콤마 구분 입력을 정수 집합으로 변환.\n",
    "    예) '1 2 3 4 5 6' 또는 '1,2,3,4,5,6'\n",
    "    \"\"\"\n",
    "    tokens = s.replace(',', ' ').split()\n",
    "    nums = {int(t) for t in tokens}\n",
    "    return nums\n",
    "\n",
    "def main():\n",
    "    # 1) 무작위 당첨 번호 생성(집합)\n",
    "    winning = make_lotto_with_randint()\n",
    "\n",
    "    # 2) 사용자 입력 → 집합\n",
    "    raw = input(\"로또 번호 6개를 입력하세요 (예: 1 2 3 4 5 6 또는 1,2,3,4,5,6): \")\n",
    "    user = parse_user_numbers(raw)\n",
    "\n",
    "    # 교집합 및 개수\n",
    "    matched = winning & user\n",
    "    count = len(matched)\n",
    "\n",
    "    # 결과 출력\n",
    "    print(f\"당첨 번호: {sorted(winning)}\")\n",
    "    print(f\"사용자 번호: {sorted(user)}\")\n",
    "    print(f\"일치 번호: {sorted(matched)}\")\n",
    "    print(f\"맞춘 개수: {count}\")\n",
    "\n",
    "if __name__ == \"__main__\":\n",
    "    main()\n"
   ]
  },
  {
   "cell_type": "code",
   "execution_count": 251,
   "id": "29ff018a",
   "metadata": {},
   "outputs": [
    {
     "name": "stdout",
     "output_type": "stream",
     "text": [
      "수를 더 입력해\n"
     ]
    }
   ],
   "source": [
    "def input_num(s:str):\n",
    "    input_input = s.replace(',',' ').split()\n",
    "    token = {int(p) for p in input_input}\n",
    "    if len(token) != 6:\n",
    "        print('수를 더 입력해')\n",
    "    else:\n",
    "        return token\n",
    "input_num(input())"
   ]
  },
  {
   "cell_type": "code",
   "execution_count": null,
   "id": "03e255a6",
   "metadata": {},
   "outputs": [],
   "source": []
  },
  {
   "cell_type": "code",
   "execution_count": null,
   "id": "41d783d9",
   "metadata": {},
   "outputs": [],
   "source": [
    "import random\n",
    "m = set(range(1,11))\n",
    "\n",
    "count = 0 # n이 m에 완전히 속한 횟수\n",
    "\n",
    "for _ in range(100):\n",
    "    n_prime = set()\n",
    "    while len(n_prime) < 5:\n",
    "        n_prime.add(random.randint(1,100))"
   ]
  },
  {
   "cell_type": "code",
   "execution_count": 346,
   "id": "d19c48bc",
   "metadata": {},
   "outputs": [
    {
     "name": "stdout",
     "output_type": "stream",
     "text": [
      "31\n"
     ]
    }
   ],
   "source": [
    "import random\n",
    "ten_set = {p for p in range(1,11)}\n",
    "count = 0\n",
    "for i in range(100):\n",
    "    rand_set = set()\n",
    "    while len(rand_set) <5:\n",
    "        rand_set.add(random.randint(1,12))\n",
    "    if rand_set.issubset(ten_set):\n",
    "        count += 1\n",
    "print(count)\n",
    "\n"
   ]
  },
  {
   "cell_type": "code",
   "execution_count": 199,
   "id": "6f384ba9",
   "metadata": {},
   "outputs": [
    {
     "name": "stdout",
     "output_type": "stream",
     "text": [
      "집합 n'이 집합 m에 완전히 속한 횟수: 2\n"
     ]
    }
   ],
   "source": [
    "import random\n",
    "\n",
    "n = set(range(1, 21))\n",
    "m = set(range(1, 11))\n",
    "\n",
    "count = 0\n",
    "\n",
    "for _ in range(100):\n",
    "    n_prime = set(random.sample(sorted(n), 5))  # sorted(n)는 리스트(시퀀스)\n",
    "    if n_prime.issubset(m):\n",
    "        count += 1\n",
    "\n",
    "print(f\"집합 n'이 집합 m에 완전히 속한 횟수: {count}\")\n"
   ]
  },
  {
   "cell_type": "code",
   "execution_count": null,
   "id": "35839dc9",
   "metadata": {},
   "outputs": [],
   "source": [
    "#subset은"
   ]
  },
  {
   "cell_type": "code",
   "execution_count": 207,
   "id": "6459bee8",
   "metadata": {},
   "outputs": [
    {
     "name": "stdout",
     "output_type": "stream",
     "text": [
      "True\n"
     ]
    }
   ],
   "source": [
    "entire = {1,2,3,4,5}\n",
    "at = {1,2,3}\n",
    "print(entire.issuperset(at))"
   ]
  },
  {
   "cell_type": "code",
   "execution_count": null,
   "id": "c25266e5",
   "metadata": {},
   "outputs": [],
   "source": [
    "#issubset\n",
    "# issubset은 a가 포함관계\n",
    "#issuperset\n",
    "# issuperset은 b가 포함관계"
   ]
  },
  {
   "cell_type": "code",
   "execution_count": 205,
   "id": "b81885c3",
   "metadata": {},
   "outputs": [
    {
     "name": "stdout",
     "output_type": "stream",
     "text": [
      "False\n"
     ]
    }
   ],
   "source": [
    "entire = {1,2,3,4,5}\n",
    "at = {1,2,3}\n",
    "print(at.issuperset(entire))"
   ]
  },
  {
   "cell_type": "code",
   "execution_count": 67,
   "id": "0567c0d2",
   "metadata": {},
   "outputs": [
    {
     "ename": "TypeError",
     "evalue": "Population must be a sequence.  For dicts or sets, use sorted(d).",
     "output_type": "error",
     "traceback": [
      "\u001b[31m---------------------------------------------------------------------------\u001b[39m",
      "\u001b[31mTypeError\u001b[39m                                 Traceback (most recent call last)",
      "\u001b[36mCell\u001b[39m\u001b[36m \u001b[39m\u001b[32mIn[67]\u001b[39m\u001b[32m, line 3\u001b[39m\n\u001b[32m      1\u001b[39m \u001b[38;5;28;01mimport\u001b[39;00m\u001b[38;5;250m \u001b[39m\u001b[34;01mrandom\u001b[39;00m\n\u001b[32m      2\u001b[39m n = \u001b[38;5;28mset\u001b[39m(\u001b[38;5;28mrange\u001b[39m(\u001b[32m1\u001b[39m,\u001b[32m101\u001b[39m))\n\u001b[32m----> \u001b[39m\u001b[32m3\u001b[39m n_prime = \u001b[43mrandom\u001b[49m\u001b[43m.\u001b[49m\u001b[43msample\u001b[49m\u001b[43m(\u001b[49m\u001b[43mn\u001b[49m\u001b[43m,\u001b[49m\u001b[32;43m5\u001b[39;49m\u001b[43m)\u001b[49m\n",
      "\u001b[36mFile \u001b[39m\u001b[32mc:\\Users\\mingyu\\AppData\\Local\\Programs\\Python\\Python313\\Lib\\random.py:417\u001b[39m, in \u001b[36mRandom.sample\u001b[39m\u001b[34m(self, population, k, counts)\u001b[39m\n\u001b[32m    393\u001b[39m \u001b[38;5;66;03m# Sampling without replacement entails tracking either potential\u001b[39;00m\n\u001b[32m    394\u001b[39m \u001b[38;5;66;03m# selections (the pool) in a list or previous selections in a set.\u001b[39;00m\n\u001b[32m    395\u001b[39m \n\u001b[32m   (...)\u001b[39m\u001b[32m    413\u001b[39m \u001b[38;5;66;03m# too many calls to _randbelow(), making them slower and\u001b[39;00m\n\u001b[32m    414\u001b[39m \u001b[38;5;66;03m# causing them to eat more entropy than necessary.\u001b[39;00m\n\u001b[32m    416\u001b[39m \u001b[38;5;28;01mif\u001b[39;00m \u001b[38;5;129;01mnot\u001b[39;00m \u001b[38;5;28misinstance\u001b[39m(population, _Sequence):\n\u001b[32m--> \u001b[39m\u001b[32m417\u001b[39m     \u001b[38;5;28;01mraise\u001b[39;00m \u001b[38;5;167;01mTypeError\u001b[39;00m(\u001b[33m\"\u001b[39m\u001b[33mPopulation must be a sequence.  \u001b[39m\u001b[33m\"\u001b[39m\n\u001b[32m    418\u001b[39m                     \u001b[33m\"\u001b[39m\u001b[33mFor dicts or sets, use sorted(d).\u001b[39m\u001b[33m\"\u001b[39m)\n\u001b[32m    419\u001b[39m n = \u001b[38;5;28mlen\u001b[39m(population)\n\u001b[32m    420\u001b[39m \u001b[38;5;28;01mif\u001b[39;00m counts \u001b[38;5;129;01mis\u001b[39;00m \u001b[38;5;129;01mnot\u001b[39;00m \u001b[38;5;28;01mNone\u001b[39;00m:\n",
      "\u001b[31mTypeError\u001b[39m: Population must be a sequence.  For dicts or sets, use sorted(d)."
     ]
    }
   ],
   "source": [
    "import random\n",
    "n = set(range(1,101))\n",
    "n_prime = random.sample(n,5)"
   ]
  },
  {
   "cell_type": "code",
   "execution_count": 48,
   "id": "0ffcc2bf",
   "metadata": {},
   "outputs": [
    {
     "name": "stdout",
     "output_type": "stream",
     "text": [
      "2개의 서로 다른 허근\n"
     ]
    }
   ],
   "source": [
    "def determinant(a,b,c):\n",
    "    D = b **2 - 4*a*c\n",
    "    if D > 0:\n",
    "        print(\"2개의 서로 다른 실근\")\n",
    "    elif D == 0:\n",
    "        print('1개의 중근')\n",
    "    else:\n",
    "        print(\"2개의 서로 다른 허근\")\n",
    "determinant(10,20,30)"
   ]
  },
  {
   "cell_type": "code",
   "execution_count": null,
   "id": "12618134",
   "metadata": {},
   "outputs": [],
   "source": [
    "import random\n",
    "def generate_lotto():\n",
    "    '''randint를 이용해 1~45에서 중복없이 6개 번호 생성(집합 사용)'''\n",
    "    lotto = set()\n",
    "    while len(lotto) < 6:\n",
    "        n = random.randint(1,45)\n",
    "        # 중복이면 자동으로 무시(집합 특성), 부족하면 계속 뽑음\n",
    "        lotto.add(n)\n",
    "    return lotto\n",
    "def read_user_numbers():\n",
    "    \"\"\"\n",
    "    사용자 입력(공백/쉼표 구분 허용)을 6개 정수로 파싱하고\n",
    "    1~45 범위 및 중복 여부를 검증\n",
    "    \"\"\"\n",
    "    raw = input(\"로또 번호 6개를 입력하십시오\")\n",
    "    parts = [p for p in raw.split(\" \")]\n",
    "    if len(parts) != 6:\n",
    "        raise ValueError(\"반드시 6개 번호를 입력하세요\")\n",
    "    \n",
    "    "
   ]
  },
  {
   "cell_type": "code",
   "execution_count": 44,
   "id": "8e59d218",
   "metadata": {},
   "outputs": [
    {
     "name": "stdout",
     "output_type": "stream",
     "text": [
      "[33, 35, 36, 38, 39, 11]\n"
     ]
    }
   ],
   "source": [
    "import random \n",
    "lotto_num = set()\n",
    "for i in range(6):\n",
    "    rand_val = random.randint(1,45)\n",
    "    lotto_num.add(rand_val)\n",
    "lotto_num = list(lotto_num)\n",
    "if len(lotto_num) != 6:\n",
    "    print('6개의 숫자가 아닙니다')\n",
    "elif len(lotto_num) == 6:\n",
    "    print(lotto_num)"
   ]
  },
  {
   "cell_type": "code",
   "execution_count": 39,
   "id": "cca7ea5b",
   "metadata": {},
   "outputs": [
    {
     "name": "stdout",
     "output_type": "stream",
     "text": [
      "[33, 4, 14, 16, 21, 23]\n"
     ]
    }
   ],
   "source": [
    "import random \n",
    "lotto_num = set()\n",
    "for i in range(6):\n",
    "    rand_val = random.randint(1,45)\n",
    "    lotto_num.add(rand_val)\n",
    "lotto_num = list(lotto_num)\n",
    "if len(lo"
   ]
  },
  {
   "cell_type": "code",
   "execution_count": 36,
   "id": "51fdb016",
   "metadata": {},
   "outputs": [
    {
     "name": "stdout",
     "output_type": "stream",
     "text": [
      "0\n"
     ]
    }
   ],
   "source": [
    "import random \n",
    "lotto_num = set()\n",
    "for i in range(6):\n",
    "    rand_val = random.randint(1,45)\n",
    "    lotto_num.add(rand_val)\n",
    "lotto_num = list(lotto_num)\n",
    "\n",
    "a = list(map(int,input('수를 띄어쓰기해서 넣으시오').split(' ')))\n",
    "count_num = 0\n",
    "for i in range(6):\n",
    "    is_prime = True\n",
    "    for j in range(6):\n",
    "        if lotto_num[i] == a[j]:\n",
    "            is_prime = True\n",
    "        elif lotto_num[i] != a[j]:\n",
    "            is_prime = False\n",
    "    if is_prime: \n",
    "        count_num +=1\n",
    "print(count_num)"
   ]
  },
  {
   "cell_type": "code",
   "execution_count": null,
   "id": "38ffb727",
   "metadata": {},
   "outputs": [],
   "source": [
    "import random\n",
    "print(random.randint(1,100))\n",
    "\n",
    "value_list = list()\n"
   ]
  },
  {
   "cell_type": "code",
   "execution_count": 25,
   "id": "2e173908",
   "metadata": {},
   "outputs": [
    {
     "name": "stdout",
     "output_type": "stream",
     "text": [
      "{100, 92, 39}\n"
     ]
    }
   ],
   "source": [
    "import random\n",
    "value = int(input(\"수를 입력하세요.\"))\n",
    "random_set = set()\n",
    "for i in range(value):\n",
    "    random_number = random.randint(1,100)\n",
    "    random_set.add(random_number)\n",
    "print(random_set)\n"
   ]
  },
  {
   "cell_type": "code",
   "execution_count": 19,
   "id": "6436ea8b",
   "metadata": {},
   "outputs": [
    {
     "name": "stdout",
     "output_type": "stream",
     "text": [
      "{1: None, 2: None, 3: None}\n"
     ]
    }
   ],
   "source": [
    "tuple_value = (1,2,3)\n",
    "list_value = [1,2,3]\n",
    "set_value = {1,2,3}\n",
    "dict_value = {'1':1,'2':2,'3':3}\n",
    "print(dict.fromkeys(tuple_value))"
   ]
  },
  {
   "cell_type": "code",
   "execution_count": 15,
   "id": "528d6d08",
   "metadata": {},
   "outputs": [
    {
     "name": "stdout",
     "output_type": "stream",
     "text": [
      "{'1': 1, '2': 2, '3': 3}\n"
     ]
    },
    {
     "data": {
      "text/plain": [
       "('3', 3)"
      ]
     },
     "execution_count": 15,
     "metadata": {},
     "output_type": "execute_result"
    }
   ],
   "source": [
    "a= {}\n",
    "a['1'] = 1\n",
    "a['2'] = 2\n",
    "a['3'] = 3\n",
    "print(a)\n",
    "a.popitem()"
   ]
  },
  {
   "cell_type": "code",
   "execution_count": 11,
   "id": "e1f662bf",
   "metadata": {},
   "outputs": [
    {
     "name": "stdout",
     "output_type": "stream",
     "text": [
      "dict_keys(['1', '2', '3'])\n",
      "dict_values([1, 2, 3])\n"
     ]
    },
    {
     "ename": "TypeError",
     "evalue": "dict.items() takes no arguments (1 given)",
     "output_type": "error",
     "traceback": [
      "\u001b[31m---------------------------------------------------------------------------\u001b[39m",
      "\u001b[31mTypeError\u001b[39m                                 Traceback (most recent call last)",
      "\u001b[36mCell\u001b[39m\u001b[36m \u001b[39m\u001b[32mIn[11]\u001b[39m\u001b[32m, line 3\u001b[39m\n\u001b[32m      1\u001b[39m \u001b[38;5;28mprint\u001b[39m(a.keys())\n\u001b[32m      2\u001b[39m \u001b[38;5;28mprint\u001b[39m(a.values())\n\u001b[32m----> \u001b[39m\u001b[32m3\u001b[39m \u001b[38;5;28mprint\u001b[39m(\u001b[43ma\u001b[49m\u001b[43m.\u001b[49m\u001b[43mitems\u001b[49m\u001b[43m(\u001b[49m\u001b[32;43m1\u001b[39;49m\u001b[43m)\u001b[49m)\n",
      "\u001b[31mTypeError\u001b[39m: dict.items() takes no arguments (1 given)"
     ]
    }
   ],
   "source": [
    "print(a.keys())\n",
    "print(a.values())\n",
    "print(a.items())"
   ]
  },
  {
   "cell_type": "code",
   "execution_count": 358,
   "id": "ed211060",
   "metadata": {},
   "outputs": [],
   "source": [
    "# 예제1\n",
    "import math\n",
    "def determinant(a,b,c):\n",
    "    D = b**2 - 4 * a * c\n",
    "    if D >0:\n",
    "        d = math.sqrt(D)\n",
    "        return (-b+d)/(2*a), (-b-d)/(2*a)\n",
    "    if D == 0:\n",
    "        return -b/(2*a)\n",
    "    if D < 0:\n",
    "        return None\n",
    "determinant(3,1,2)"
   ]
  },
  {
   "cell_type": "code",
   "execution_count": null,
   "id": "ae5a9068",
   "metadata": {},
   "outputs": [
    {
     "ename": "ValueError",
     "evalue": "math domain error",
     "output_type": "error",
     "traceback": [
      "\u001b[31m---------------------------------------------------------------------------\u001b[39m",
      "\u001b[31mValueError\u001b[39m                                Traceback (most recent call last)",
      "\u001b[36mCell\u001b[39m\u001b[36m \u001b[39m\u001b[32mIn[353]\u001b[39m\u001b[32m, line 1\u001b[39m\n\u001b[32m----> \u001b[39m\u001b[32m1\u001b[39m \u001b[43mdeterminant\u001b[49m\u001b[43m(\u001b[49m\u001b[32;43m3\u001b[39;49m\u001b[43m,\u001b[49m\u001b[32;43m1\u001b[39;49m\u001b[43m,\u001b[49m\u001b[32;43m2\u001b[39;49m\u001b[43m)\u001b[49m\n",
      "\u001b[36mCell\u001b[39m\u001b[36m \u001b[39m\u001b[32mIn[352]\u001b[39m\u001b[32m, line 4\u001b[39m, in \u001b[36mdeterminant\u001b[39m\u001b[34m(a, b, c)\u001b[39m\n\u001b[32m      2\u001b[39m \u001b[38;5;28;01mdef\u001b[39;00m\u001b[38;5;250m \u001b[39m\u001b[34mdeterminant\u001b[39m(a,b,c):\n\u001b[32m      3\u001b[39m     \u001b[38;5;28;01mimport\u001b[39;00m\u001b[38;5;250m \u001b[39m\u001b[34;01mmath\u001b[39;00m\n\u001b[32m----> \u001b[39m\u001b[32m4\u001b[39m     D = \u001b[43mmath\u001b[49m\u001b[43m.\u001b[49m\u001b[43msqrt\u001b[49m\u001b[43m(\u001b[49m\u001b[43mb\u001b[49m\u001b[43m*\u001b[49m\u001b[43m*\u001b[49m\u001b[32;43m2\u001b[39;49m\u001b[43m \u001b[49m\u001b[43m-\u001b[49m\u001b[43m \u001b[49m\u001b[32;43m4\u001b[39;49m\u001b[43m \u001b[49m\u001b[43m*\u001b[49m\u001b[43m \u001b[49m\u001b[43ma\u001b[49m\u001b[43m \u001b[49m\u001b[43m*\u001b[49m\u001b[43m \u001b[49m\u001b[43mc\u001b[49m\u001b[43m)\u001b[49m\n\u001b[32m      5\u001b[39m     \u001b[38;5;28;01mif\u001b[39;00m D >\u001b[32m0\u001b[39m:\n\u001b[32m      6\u001b[39m         \u001b[38;5;28;01mreturn\u001b[39;00m (-b+D)/(\u001b[32m2\u001b[39m*a), (-b-D)/(\u001b[32m2\u001b[39m*a)\n",
      "\u001b[31mValueError\u001b[39m: math domain error"
     ]
    }
   ],
   "source": []
  }
 ],
 "metadata": {
  "kernelspec": {
   "display_name": "Python 3",
   "language": "python",
   "name": "python3"
  },
  "language_info": {
   "codemirror_mode": {
    "name": "ipython",
    "version": 3
   },
   "file_extension": ".py",
   "mimetype": "text/x-python",
   "name": "python",
   "nbconvert_exporter": "python",
   "pygments_lexer": "ipython3",
   "version": "3.13.2"
  }
 },
 "nbformat": 4,
 "nbformat_minor": 5
}
