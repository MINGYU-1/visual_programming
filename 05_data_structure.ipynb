{
 "cells": [
  {
   "cell_type": "code",
   "execution_count": null,
   "id": "941f13e9",
   "metadata": {},
   "outputs": [],
   "source": [
    "# 사전의 의미\n",
    "# 정의 집합에 대한 키-값 쌍의 나열\n",
    "# 키를 통해 값에 접근"
   ]
  },
  {
   "cell_type": "code",
   "execution_count": null,
   "id": "fcadaa24",
   "metadata": {},
   "outputs": [],
   "source": [
    "# 사전은 해시맵으로 구현\n",
    "# 해시맵은 매우 빠른 데이터 접근 속도를 보장\n"
   ]
  },
  {
   "cell_type": "code",
   "execution_count": null,
   "id": "c6ccd0e5",
   "metadata": {},
   "outputs": [
    {
     "name": "stdout",
     "output_type": "stream",
     "text": [
      "0112358132134"
     ]
    }
   ],
   "source": [
    "def fibonnaci(n):\n",
    "    a,b = 0, 1\n",
    "    for _ in range(n):\n",
    "        print(a, end = ' ')\n",
    "        a,b = b, a+b\n",
    "\n",
    "fibonnaci(10)\n",
    "\n",
    "    \n"
   ]
  },
  {
   "cell_type": "code",
   "execution_count": 18,
   "id": "f2b49be9",
   "metadata": {},
   "outputs": [
    {
     "name": "stdout",
     "output_type": "stream",
     "text": [
      "3.75\n"
     ]
    }
   ],
   "source": [
    "history = [(2, 'A+'), (3, 'A'), (2, 'B'), \n",
    "(3, 'A'), (3, 'B+'), (3, 'B+')] \n",
    "score_map = {'A+': 4.5, 'A': 4.0, 'B+': 3.5, 'B': 3.0} \n",
    "gpa, credits = 0.0 ,0\n",
    "for credit, grade in history:\n",
    "    gpa += credit* score_map[grade]\n",
    "    credits += credit\n",
    "gpa /= credits\n",
    "print(gpa)"
   ]
  },
  {
   "cell_type": "code",
   "execution_count": 6,
   "id": "0f0a9394",
   "metadata": {},
   "outputs": [
    {
     "name": "stdout",
     "output_type": "stream",
     "text": [
      "1\n",
      "3\n",
      "False\n"
     ]
    }
   ],
   "source": [
    "# # 튜플\n",
    "# print(a)\n",
    "# a = (1,2,3)\n",
    "# a = 1,2,3,\n",
    "# print(a)\n",
    "# a = (1)\n",
    "# print(a)\n",
    "\n",
    "a = (\"1\",2.1,True)\n",
    "print(a[0])\n",
    "b =[(1,2),(3,4)]\n",
    "print(b[1][0])\n",
    "print(False in a)"
   ]
  },
  {
   "cell_type": "code",
   "execution_count": null,
   "id": "2d24086b",
   "metadata": {},
   "outputs": [],
   "source": []
  },
  {
   "cell_type": "code",
   "execution_count": null,
   "id": "82469e7f",
   "metadata": {},
   "outputs": [
    {
     "name": "stdout",
     "output_type": "stream",
     "text": [
      "['1']\n"
     ]
    },
    {
     "ename": "IndexError",
     "evalue": "pop index out of range",
     "output_type": "error",
     "traceback": [
      "\u001b[31m---------------------------------------------------------------------------\u001b[39m",
      "\u001b[31mIndexError\u001b[39m                                Traceback (most recent call last)",
      "\u001b[36mCell\u001b[39m\u001b[36m \u001b[39m\u001b[32mIn[27]\u001b[39m\u001b[32m, line 7\u001b[39m\n\u001b[32m      2\u001b[39m \u001b[38;5;66;03m# a.append(10)\u001b[39;00m\n\u001b[32m      3\u001b[39m \u001b[38;5;66;03m#list\u001b[39;00m\n\u001b[32m      4\u001b[39m \u001b[38;5;66;03m#append, extend, insert, remove, pop\u001b[39;00m\n\u001b[32m      5\u001b[39m \u001b[38;5;66;03m# a.insert(1,['1',3])\u001b[39;00m\n\u001b[32m      6\u001b[39m \u001b[38;5;28mprint\u001b[39m(a)\n\u001b[32m----> \u001b[39m\u001b[32m7\u001b[39m \u001b[43ma\u001b[49m\u001b[43m.\u001b[49m\u001b[43mpop\u001b[49m\u001b[43m(\u001b[49m\u001b[32;43m2\u001b[39;49m\u001b[43m)\u001b[49m\n\u001b[32m      8\u001b[39m \u001b[38;5;28mprint\u001b[39m(a)\n",
      "\u001b[31mIndexError\u001b[39m: pop index out of range"
     ]
    }
   ],
   "source": [
    "a = [\"1\"]\n",
    "# a.append(10)\n",
    "#list\n",
    "#append, extend, insert, remove, pop, clear,sort\n",
    "# a.insert(1,['1',3])\n",
    "print(a)\n",
    "a.pop(2)\n",
    "print(a)"
   ]
  },
  {
   "cell_type": "code",
   "execution_count": null,
   "id": "418ab105",
   "metadata": {},
   "outputs": [
    {
     "name": "stdout",
     "output_type": "stream",
     "text": [
      "[1, 2, 3]\n",
      "[1]\n",
      "['1', 2.1, True]\n"
     ]
    }
   ],
   "source": [
    "a = [1,2,3]\n",
    "b = [1,2,3,]\n",
    "print(a)\n",
    "a = [1]\n",
    "print(a)\n",
    "\n",
    "a = [\"1\",2.1,True]\n",
    "a = list([\"1\",2.1,True])\n",
    "print(a)\n",
    "print(a[0])\n",
    "print(a[0:2])\n",
    "print(a[1:])\n",
    "print(False in a)\n"
   ]
  },
  {
   "cell_type": "code",
   "execution_count": 1,
   "id": "c4ce20cf",
   "metadata": {},
   "outputs": [
    {
     "ename": "SyntaxError",
     "evalue": "cannot assign to subscript here. Maybe you meant '==' instead of '='? (943467741.py, line 9)",
     "output_type": "error",
     "traceback": [
      "  \u001b[36mCell\u001b[39m\u001b[36m \u001b[39m\u001b[32mIn[1]\u001b[39m\u001b[32m, line 9\u001b[39m\n\u001b[31m    \u001b[39m\u001b[31mc.append(math.sqrt((b[0]-a[j][0])**2 +(b[1]=a[j][1]) **2))\u001b[39m\n                                           ^\n\u001b[31mSyntaxError\u001b[39m\u001b[31m:\u001b[39m cannot assign to subscript here. Maybe you meant '==' instead of '='?\n"
     ]
    }
   ],
   "source": [
    "def location():\n",
    "    import math\n",
    "    a = []\n",
    "    c= []\n",
    "    for i in range(5):\n",
    "        a.append(tuple(map(float,input().split(\",\"))))\n",
    "    b = tuple(map(float,input().split(\",\")))\n",
    "    for j in range(5):\n",
    "        c.append(math.sqrt((b[0]-a[j][0])**2 +(b[1]=a[j][1]) **2))\n",
    "        answer = min(c)\n",
    "    return answer\n"
   ]
  },
  {
   "cell_type": "code",
   "execution_count": null,
   "id": "1ee7253b",
   "metadata": {},
   "outputs": [],
   "source": [
    "# hashing\n",
    "# SipHash 2-4 알고리즘\n",
    "# 질의를 통해 데이터에 접근할 수 있다.\n",
    "# o(1) 수준의 매우 빠른 데이터 접근 속도(삽입, 수정, 제거)\n"
   ]
  },
  {
   "cell_type": "code",
   "execution_count": 3,
   "id": "370006b1",
   "metadata": {},
   "outputs": [
    {
     "name": "stdout",
     "output_type": "stream",
     "text": [
      "{'1': 1, '2': []}\n"
     ]
    }
   ],
   "source": [
    "a= {}\n",
    "a['1'] = 1\n",
    "a['2'] = []\n",
    "print(a)"
   ]
  },
  {
   "cell_type": "code",
   "execution_count": 5,
   "id": "617359bd",
   "metadata": {},
   "outputs": [
    {
     "name": "stdout",
     "output_type": "stream",
     "text": [
      "True\n"
     ]
    }
   ],
   "source": [
    "a = {'1':1,'2':2 , '3':3}\n",
    "print('3' in a)"
   ]
  },
  {
   "cell_type": "code",
   "execution_count": 6,
   "id": "478c5a12",
   "metadata": {},
   "outputs": [
    {
     "name": "stdout",
     "output_type": "stream",
     "text": [
      "True\n"
     ]
    }
   ],
   "source": [
    "a = {'1':1,\"2\":2,\"3\":3}\n",
    "print('3' in a)"
   ]
  },
  {
   "cell_type": "code",
   "execution_count": 7,
   "id": "c53be7db",
   "metadata": {},
   "outputs": [
    {
     "name": "stdout",
     "output_type": "stream",
     "text": [
      "None\n"
     ]
    }
   ],
   "source": [
    "# 사전은 순서가 있다.\n",
    "a = {'1':1, '2':2,'3':3}\n",
    "print(a.get('10'))"
   ]
  },
  {
   "cell_type": "code",
   "execution_count": 8,
   "id": "a74d29ee",
   "metadata": {},
   "outputs": [
    {
     "name": "stdout",
     "output_type": "stream",
     "text": [
      "dict_keys(['1', '2', '3'])\n"
     ]
    }
   ],
   "source": [
    "a = {'1':1,'2':2,'3':3}\n",
    "print(a.keys())\n"
   ]
  },
  {
   "cell_type": "code",
   "execution_count": 11,
   "id": "5b9452b7",
   "metadata": {},
   "outputs": [
    {
     "name": "stdout",
     "output_type": "stream",
     "text": [
      "53\n"
     ]
    }
   ],
   "source": [
    "import random\n",
    "random_number = random.randint(1,100)\n",
    "print(random_number)"
   ]
  },
  {
   "cell_type": "code",
   "execution_count": null,
   "id": "f88d45bd",
   "metadata": {},
   "outputs": [],
   "source": [
    "value_list = []\n",
    "for i in range(100):\n",
    "    value_list.append(i+1)\n",
    "random.shuffle(value_list)"
   ]
  },
  {
   "cell_type": "code",
   "execution_count": 1,
   "id": "728e8356",
   "metadata": {},
   "outputs": [
    {
     "name": "stdout",
     "output_type": "stream",
     "text": [
      "{46, 91, 85, 22}\n"
     ]
    }
   ],
   "source": [
    "import random\n",
    "user_value = input('수를 입력하세요')\n",
    "user_value = int(user_value)\n",
    "result = set()\n",
    "for i in range(user_value):\n",
    "    random_value = random.randint(1,100)\n",
    "    result.add(random_value)\n",
    "print(result)\n"
   ]
  },
  {
   "cell_type": "code",
   "execution_count": 20,
   "id": "dcdcf657",
   "metadata": {},
   "outputs": [
    {
     "name": "stdout",
     "output_type": "stream",
     "text": [
      "2개 맞았습니다.\n"
     ]
    }
   ],
   "source": [
    "import random\n",
    "result_value = input(\"로또 번호를 입력해주세요:\")\n",
    "result_value = result_value.split()\n",
    "user_value = list(result_value)\n",
    "user_lotto = set()\n",
    "for value in user_value:\n",
    "    user_lotto.add(int(value))\n",
    "\n",
    "lotto_pool = []\n",
    "for value in range(1,46):\n",
    "    lotto_pool.append(value)\n",
    "random.shuffle(lotto_pool)\n",
    "chosen_lotto = set(lotto_pool[:6])\n",
    "\n",
    "print(f'{len(user_lotto & chosen_lotto)}'+'개 맞았습니다.')"
   ]
  },
  {
   "cell_type": "code",
   "execution_count": 21,
   "id": "8f90f23f",
   "metadata": {},
   "outputs": [
    {
     "name": "stdout",
     "output_type": "stream",
     "text": [
      "{16, 19, 87}\n"
     ]
    }
   ],
   "source": [
    "import random \n",
    "number_1 = input(\"숫자를 입력하세요\")\n",
    "number_1 = int(number_1)\n",
    "rand_1 = set()\n",
    "for value in range(number_1):\n",
    "    random_value = random.randint(1, 100)\n",
    "    rand_1.add(random_value)\n",
    "\n",
    "print(rand_1)"
   ]
  },
  {
   "cell_type": "code",
   "execution_count": 1,
   "id": "4021c575",
   "metadata": {},
   "outputs": [
    {
     "name": "stdout",
     "output_type": "stream",
     "text": [
      "{}\n"
     ]
    }
   ],
   "source": [
    "a = {}\n",
    "print(a)"
   ]
  },
  {
   "cell_type": "code",
   "execution_count": 14,
   "id": "077b56a7",
   "metadata": {},
   "outputs": [
    {
     "name": "stdout",
     "output_type": "stream",
     "text": [
      "{1, 2, 3}\n"
     ]
    }
   ],
   "source": [
    "a = set()\n",
    "a = set({2,1,3,3})\n",
    "print(a)"
   ]
  },
  {
   "cell_type": "code",
   "execution_count": 15,
   "id": "010ef0e2",
   "metadata": {},
   "outputs": [
    {
     "name": "stdout",
     "output_type": "stream",
     "text": [
      "5\n"
     ]
    }
   ],
   "source": [
    "a = {1,2,3,4}\n",
    "a.add(1)\n",
    "a.add(5)\n",
    "print(len(a))\n"
   ]
  },
  {
   "cell_type": "code",
   "execution_count": 18,
   "id": "eb42fe69",
   "metadata": {},
   "outputs": [
    {
     "name": "stdout",
     "output_type": "stream",
     "text": [
      "{1, 2, 3, 4, 5}\n"
     ]
    }
   ],
   "source": [
    "a = {1,2,3,4,5}\n",
    "a.discard(10)\n",
    "print(a)"
   ]
  },
  {
   "cell_type": "code",
   "execution_count": 20,
   "id": "b18490d4",
   "metadata": {},
   "outputs": [
    {
     "name": "stdout",
     "output_type": "stream",
     "text": [
      "2\n"
     ]
    }
   ],
   "source": [
    "print(a.pop()) # 임의의 원소가 추출됨"
   ]
  }
 ],
 "metadata": {
  "kernelspec": {
   "display_name": "base",
   "language": "python",
   "name": "python3"
  },
  "language_info": {
   "codemirror_mode": {
    "name": "ipython",
    "version": 3
   },
   "file_extension": ".py",
   "mimetype": "text/x-python",
   "name": "python",
   "nbconvert_exporter": "python",
   "pygments_lexer": "ipython3",
   "version": "3.12.7"
  }
 },
 "nbformat": 4,
 "nbformat_minor": 5
}
