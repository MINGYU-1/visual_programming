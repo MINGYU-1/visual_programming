{
 "cells": [
  {
   "cell_type": "markdown",
   "id": "0c8f7430",
   "metadata": {},
   "source": [
    "## 튜플, 리스트\n",
    "### Abstract Data Types\n",
    "#### 보여주는 그대로 해석이 가능하다\n",
    "#### 숫자들이 있는데 숫자들을 가지고 ,로 구분해서 튜블링라고 한다.\n",
    "#### 대괄호로 묶으면 리스트 "
   ]
  },
  {
   "cell_type": "code",
   "execution_count": null,
   "id": "a67bf302",
   "metadata": {},
   "outputs": [
    {
     "data": {
      "text/plain": [
       "dict"
      ]
     },
     "execution_count": 1,
     "metadata": {},
     "output_type": "execute_result"
    }
   ],
   "source": []
  },
  {
   "cell_type": "markdown",
   "id": "187e178c",
   "metadata": {},
   "source": [
    "- 자료 구조\n",
    "- 정의 \n",
    "- 원하는 목적에 맞추어 설계된 배치 구조\n",
    "- 자료형과 자료 구조는 별개\n",
    "- 자료형은 자료의 형태에 초점을 두는 반면 자료구조는 자료의 공간적(저장) 배치에 초점을 둠\n",
    "e.g. 정수형 자료구조, 실수형 자료구조, 복소수형 자료구조, "
   ]
  },
  {
   "cell_type": "markdown",
   "id": "465b223d",
   "metadata": {},
   "source": [
    "### 자료 구조 \n",
    "- 정의 \n",
    "자료형과 자료구조는 별개의 개념\n",
    "자료형은 자료의 형태에 초점을 두는 반면, 자료구조는 자료의 공간적(저장) 배치에 초점을 둔다.\n",
    "\n",
    "e.g. 정수형 자료구조, 실수형 자료구조, 복소수형 자료구조"
   ]
  },
  {
   "cell_type": "code",
   "execution_count": 1,
   "id": "2c8e0a94",
   "metadata": {},
   "outputs": [
    {
     "name": "stdout",
     "output_type": "stream",
     "text": [
      "(1,)\n"
     ]
    }
   ],
   "source": [
    "a = (1,)\n",
    "print(a)"
   ]
  },
  {
   "cell_type": "code",
   "execution_count": 3,
   "id": "ef1c0391",
   "metadata": {},
   "outputs": [
    {
     "name": "stdout",
     "output_type": "stream",
     "text": [
      "1\n"
     ]
    }
   ],
   "source": [
    "a = (1)\n",
    "print(a)"
   ]
  },
  {
   "cell_type": "code",
   "execution_count": 12,
   "id": "3eab9389",
   "metadata": {},
   "outputs": [
    {
     "name": "stdout",
     "output_type": "stream",
     "text": [
      "1\n",
      "((1, 2), (3, 4))\n"
     ]
    },
    {
     "data": {
      "text/plain": [
       "2"
      ]
     },
     "execution_count": 12,
     "metadata": {},
     "output_type": "execute_result"
    }
   ],
   "source": [
    "a = (\"1\",2.1,True)\n",
    "a = tuple((\"1\",2.1,True))\n",
    "print(a[0])\n",
    "b = tuple(((1,2),(3,4)))\n",
    "print(b)\n",
    "b[0][1]"
   ]
  },
  {
   "cell_type": "code",
   "execution_count": 16,
   "id": "d0c95cc1",
   "metadata": {},
   "outputs": [
    {
     "data": {
      "text/plain": [
       "(((1, 2), (3, 4)),)"
      ]
     },
     "execution_count": 16,
     "metadata": {},
     "output_type": "execute_result"
    }
   ],
   "source": [
    "int(4.9)\n",
    "x = (a,b)\n",
    "x[-1:]"
   ]
  },
  {
   "cell_type": "code",
   "execution_count": 17,
   "id": "ab39a809",
   "metadata": {},
   "outputs": [
    {
     "name": "stdout",
     "output_type": "stream",
     "text": [
      "(1, 2, 3, 4, 1, 2, 3, 4)\n"
     ]
    }
   ],
   "source": [
    "a = (1,2,3,4)\n",
    "print(a*2)"
   ]
  },
  {
   "cell_type": "code",
   "execution_count": null,
   "id": "7f3cfd04",
   "metadata": {},
   "outputs": [
    {
     "name": "stdout",
     "output_type": "stream",
     "text": [
      "(1,)\n"
     ]
    }
   ],
   "source": [
    "a = (1,)\n",
    "print(a)\n",
    "a = ('1',)"
   ]
  },
  {
   "cell_type": "code",
   "execution_count": 3,
   "id": "d088de76",
   "metadata": {},
   "outputs": [
    {
     "data": {
      "text/plain": [
       "0"
      ]
     },
     "execution_count": 3,
     "metadata": {},
     "output_type": "execute_result"
    }
   ],
   "source": [
    "a.count(2.1)"
   ]
  },
  {
   "cell_type": "code",
   "execution_count": 21,
   "id": "716ab918",
   "metadata": {},
   "outputs": [
    {
     "name": "stdout",
     "output_type": "stream",
     "text": [
      "1\n",
      "0\n"
     ]
    }
   ],
   "source": [
    "b = (1,2,2)\n",
    "print(b.index(2))\n",
    "print(b[b.index(2):].index((2)))"
   ]
  },
  {
   "cell_type": "code",
   "execution_count": 5,
   "id": "d317d82e",
   "metadata": {},
   "outputs": [
    {
     "name": "stdout",
     "output_type": "stream",
     "text": [
      "[]\n",
      "[1, 2, 3]\n",
      "['1', True, 2.1]\n"
     ]
    }
   ],
   "source": [
    "a = []\n",
    "print(a)\n",
    "a = [1,2,3]\n",
    "a = [1,2,3,]\n",
    "print(a)\n",
    "a = [\"1\",True, 2.1]\n",
    "print(a)"
   ]
  },
  {
   "cell_type": "code",
   "execution_count": 6,
   "id": "6b1b158a",
   "metadata": {},
   "outputs": [
    {
     "name": "stdout",
     "output_type": "stream",
     "text": [
      "['1', 10]\n"
     ]
    }
   ],
   "source": [
    "a = [\"1\"]\n",
    "a.append(10)\n",
    "print(a)"
   ]
  },
  {
   "cell_type": "code",
   "execution_count": 28,
   "id": "da29dd2c",
   "metadata": {},
   "outputs": [
    {
     "name": "stdout",
     "output_type": "stream",
     "text": [
      "['abc', 2, 'cda', 'qaz', 'xyz', [5, 6]]\n"
     ]
    }
   ],
   "source": [
    "a=['xyz','abc','cda','qaz']\n",
    "a.sort()\n",
    "a.append([5,6])\n",
    "a.insert(1,2)\n",
    "print(a)\n"
   ]
  },
  {
   "cell_type": "code",
   "execution_count": 18,
   "id": "df122778",
   "metadata": {},
   "outputs": [
    {
     "name": "stdout",
     "output_type": "stream",
     "text": [
      "[1, 1, 2, 3, 5, 7]\n"
     ]
    },
    {
     "data": {
      "text/plain": [
       "1"
      ]
     },
     "execution_count": 18,
     "metadata": {},
     "output_type": "execute_result"
    }
   ],
   "source": [
    "a=[3,2,1,5,7]\n",
    "a.sort()\n",
    "a.insert(1,1)\n",
    "print(a)\n",
    "a.pop(0)"
   ]
  },
  {
   "cell_type": "code",
   "execution_count": 29,
   "id": "64fe7deb",
   "metadata": {},
   "outputs": [
    {
     "name": "stdout",
     "output_type": "stream",
     "text": [
      "['1', '2', '3', '4', '5']\n"
     ]
    }
   ],
   "source": [
    "a = '1,2,3,4,5'\n",
    "tokens = a.split(',')\n",
    "print(tokens)"
   ]
  },
  {
   "cell_type": "code",
   "execution_count": 19,
   "id": "f225dac0",
   "metadata": {},
   "outputs": [
    {
     "data": {
      "text/plain": [
       "['1', '2', '3', '4', '5']"
      ]
     },
     "execution_count": 19,
     "metadata": {},
     "output_type": "execute_result"
    }
   ],
   "source": [
    "a = '1,2,3,4,5'\n",
    "a.split(',')"
   ]
  },
  {
   "cell_type": "code",
   "execution_count": 24,
   "id": "89a481b2",
   "metadata": {},
   "outputs": [
    {
     "name": "stdout",
     "output_type": "stream",
     "text": [
      "(1.0, 3.0)\n"
     ]
    }
   ],
   "source": [
    "x, y = map(float,input().split(','))\n",
    "print((x,y))\n"
   ]
  },
  {
   "cell_type": "code",
   "execution_count": 33,
   "id": "be5b43d7",
   "metadata": {},
   "outputs": [
    {
     "name": "stdout",
     "output_type": "stream",
     "text": [
      "어젯밤은\n"
     ]
    }
   ],
   "source": [
    "a = '어젯밤은 유난히 더웠다'\n",
    "token1, token2, token3 = a.split(' ')\n",
    "print(token1)\n"
   ]
  },
  {
   "cell_type": "code",
   "execution_count": 41,
   "id": "06784e59",
   "metadata": {},
   "outputs": [
    {
     "name": "stdout",
     "output_type": "stream",
     "text": [
      "(1.0, 3.0)\n"
     ]
    }
   ],
   "source": [
    "# 예제1\n",
    "user_input = input(\"두수를 입력하세요: \")\n",
    "a,b = map(float, user_input.split(','))\n",
    "print((a,b))"
   ]
  },
  {
   "cell_type": "code",
   "execution_count": 34,
   "id": "af4b166a",
   "metadata": {},
   "outputs": [
    {
     "name": "stdout",
     "output_type": "stream",
     "text": [
      "(5.0, 5.0)\n",
      "5.656854249492381\n",
      "2.8284271247461903\n",
      "0.0\n",
      "2.8284271247461903\n",
      "5.656854249492381\n"
     ]
    }
   ],
   "source": [
    "# 예제2\n",
    "coord= (1,1),(3,3),(5,5),(7,7),(9,9)\n",
    "sum_x = 0\n",
    "sum_y = 0\n",
    "for i in range(len(coord)):\n",
    "    sum_x += coord[i][0]\n",
    "    sum_y += coord[i][1]\n",
    "center_x = sum_x /len(coord)\n",
    "center_y = sum_y /len(coord)\n",
    "print((center_x, center_y))\n",
    "for i in range(len(coord)):\n",
    "    print(((coord[i][0]-center_x)**2+ (coord[i][1]-center_y)**2)**(1/2))\n"
   ]
  },
  {
   "cell_type": "code",
   "execution_count": 46,
   "id": "655012b6",
   "metadata": {},
   "outputs": [
    {
     "data": {
      "text/plain": [
       "-3"
      ]
     },
     "execution_count": 46,
     "metadata": {},
     "output_type": "execute_result"
    }
   ],
   "source": [
    "#예제3\n",
    "a = [2, 6, -3, 4, 0]\n",
    "sorted(a)[0]"
   ]
  },
  {
   "cell_type": "code",
   "execution_count": 41,
   "id": "7f724a64",
   "metadata": {},
   "outputs": [
    {
     "data": {
      "text/plain": [
       "3"
      ]
     },
     "execution_count": 41,
     "metadata": {},
     "output_type": "execute_result"
    }
   ],
   "source": [
    "a = [1,3,4,3,]\n",
    "a.pop(1)\n"
   ]
  },
  {
   "cell_type": "code",
   "execution_count": 50,
   "id": "6fa8fe5b",
   "metadata": {},
   "outputs": [
    {
     "data": {
      "text/plain": [
       "2.23606797749979"
      ]
     },
     "execution_count": 50,
     "metadata": {},
     "output_type": "execute_result"
    }
   ],
   "source": [
    "#예제4\n",
    "coord = []\n",
    "for i in range(5):\n",
    "    user_input = input(str(i)+'번째 수를 입력하시오')\n",
    "    a,b = user_input.split(',')\n",
    "    a,b = float(a),float(b)\n",
    "\n",
    "    coord.append((a,b))\n",
    "\n",
    "user_input = input('기준점을 입력하시오')\n",
    "a,b = user_input.split(',')\n",
    "a,b = float(a),float(b)\n",
    "t = (a,b)\n",
    "\n",
    "for i in range(5):\n",
    "    if coord[i][0] == t[0] and coord[i][1] == t[1]:\n",
    "        coord.pop(i)\n",
    "distances = []\n",
    "for i in range(len(coord)):\n",
    "    distance = ((t[0]- coord[i][0])**2+ (t[1]-coord[i][1])**2)**(1/2)\n",
    "    distances.append(distance)\n",
    "sorted(distances)[0]"
   ]
  },
  {
   "cell_type": "code",
   "execution_count": 39,
   "id": "116cbd73",
   "metadata": {},
   "outputs": [
    {
     "name": "stdout",
     "output_type": "stream",
     "text": [
      "0->0\n",
      "1->3\n",
      "2->2\n",
      "3->1\n"
     ]
    }
   ],
   "source": [
    "a = [-2,5,4,1]\n",
    "b = sorted(a)\n",
    "for i in a:\n",
    "    print(f'{a.index(i)}->{b.index(i)}')"
   ]
  },
  {
   "cell_type": "markdown",
   "id": "dfb43ba5",
   "metadata": {},
   "source": []
  },
  {
   "cell_type": "code",
   "execution_count": 33,
   "id": "550a81cb",
   "metadata": {},
   "outputs": [
    {
     "name": "stdout",
     "output_type": "stream",
     "text": [
      "(5.0, 5.0)\n",
      "5.656854249492381\n",
      "2.8284271247461903\n",
      "0.0\n",
      "2.8284271247461903\n",
      "5.656854249492381\n"
     ]
    }
   ],
   "source": [
    "coord = ((1,1),(3,3),(5,5),(7,7),(9,9))\n",
    "t_x, t_y = 0,0\n",
    "for i in range(len(coord)):\n",
    "    t_x +=coord[i][0]\n",
    "    t_y +=coord[i][1]\n",
    "t_x /= len(coord)\n",
    "t_y /= len(coord)\n",
    "\n",
    "t = (t_x, t_y)\n",
    "print(t)\n",
    "for i in range(len(coord)):\n",
    "    distance = ((t[0] - coord[i][0])**2 +(t[1] - coord[i][1])**2)**(1/2)\n",
    "    print(distance)"
   ]
  },
  {
   "cell_type": "code",
   "execution_count": null,
   "id": "c7b7bfff",
   "metadata": {},
   "outputs": [],
   "source": [
    "#예제4\n",
    "for i in range(5):\n",
    "    user_input = input(str(i) + '번쨰 점을 입력하시오')\n",
    "    "
   ]
  }
 ],
 "metadata": {
  "kernelspec": {
   "display_name": "Python 3",
   "language": "python",
   "name": "python3"
  },
  "language_info": {
   "codemirror_mode": {
    "name": "ipython",
    "version": 3
   },
   "file_extension": ".py",
   "mimetype": "text/x-python",
   "name": "python",
   "nbconvert_exporter": "python",
   "pygments_lexer": "ipython3",
   "version": "3.13.2"
  }
 },
 "nbformat": 4,
 "nbformat_minor": 5
}
